{
 "cells": [
  {
   "cell_type": "code",
   "execution_count": 10,
   "metadata": {},
   "outputs": [],
   "source": [
    "import pandas_datareader.data as web\n",
    "from pandas_datareader.nasdaq_trader import get_nasdaq_symbols\n",
    "from pandas_datareader._utils import RemoteDataError\n",
    "from datetime import datetime, timedelta\n",
    "import pandas as pd\n",
    "import matplotlib.pyplot as plt\n",
    "import numpy as np\n",
    "import pickle\n",
    "from tqdm.notebook import tqdm"
   ]
  },
  {
   "cell_type": "code",
   "execution_count": 2,
   "metadata": {},
   "outputs": [],
   "source": [
    "def plot_stock_trend_and_returns(ticker, titles, start_date, end_date, all_returns):\n",
    "\n",
    "    # get the data for this ticker\n",
    "    prices = web.DataReader(ticker, \"yahoo\", start=start_date, end=end_date).Close\n",
    "    prices.index = [d.date() for d in prices.index]\n",
    "\n",
    "    plt.figure(figsize=(10, 6))\n",
    "\n",
    "    # plot stock price\n",
    "    plt.subplot(2, 1, 1)\n",
    "    plt.plot(prices)\n",
    "    plt.title(titles[0], fontsize=16)\n",
    "    plt.ylabel(\"Price ($)\", fontsize=14)\n",
    "\n",
    "    # plot stock returns\n",
    "    plt.subplot(2, 1, 2)\n",
    "    plt.plot(all_returns[0], all_returns[1], color=\"g\")\n",
    "    plt.title(titles[1], fontsize=16)\n",
    "    plt.ylabel(\"Pct. Return\", fontsize=14)\n",
    "    plt.axhline(0, color=\"k\", linestyle=\"--\")\n",
    "\n",
    "    plt.tight_layout()\n",
    "\n",
    "    plt.show()"
   ]
  },
  {
   "cell_type": "code",
   "execution_count": 3,
   "metadata": {},
   "outputs": [],
   "source": [
    "def perform_analysis_for_stock(\n",
    "    ticker, start_date, end_date, return_period_weeks, verbose=False\n",
    "):\n",
    "    \"\"\"\n",
    "    Inputs:\n",
    "        ticker: the ticker symbol to analyze\n",
    "        start_date: the first date considered in simulation\n",
    "        end_date: the last date considered in simulation\n",
    "        return_period_weeks: the number of weeks in which to calculate returns\n",
    "        verbose: True if you want to print simulation steps\n",
    "\n",
    "    Outputs:\n",
    "        average and standard deviation of returns for simulated runs of this ticker within the given date range\n",
    "    \"\"\"\n",
    "\n",
    "    # get the data for this ticker\n",
    "    try:\n",
    "        prices = web.DataReader(ticker, \"yahoo\", start=start_date, end=end_date).Close\n",
    "    # could not find data on this ticker\n",
    "    except (RemoteDataError, KeyError):\n",
    "        # return default values\n",
    "        return -np.inf, np.inf, None\n",
    "\n",
    "    prices.index = [d.date() for d in prices.index]\n",
    "\n",
    "    # this will store all simulated returns\n",
    "    pct_return_after_period = []\n",
    "    buy_dates = []\n",
    "\n",
    "    # assume we buy the stock on each day in the range\n",
    "    for buy_date, buy_price in prices.iteritems():\n",
    "        # get price of the stock after given number of weeks\n",
    "        sell_date = buy_date + timedelta(weeks=return_period_weeks)\n",
    "\n",
    "        try:\n",
    "            sell_price = prices[prices.index == sell_date].iloc[0]\n",
    "        # trying to sell on a non-trading day, skip\n",
    "        except IndexError:\n",
    "            continue\n",
    "\n",
    "        # compute the percent return\n",
    "        pct_return = (sell_price - buy_price) / buy_price\n",
    "        pct_return_after_period.append(pct_return)\n",
    "        buy_dates.append(buy_date)\n",
    "\n",
    "        if verbose:\n",
    "            print(\"Date Buy: %s, Price Buy: %s\" % (buy_date, round(buy_price, 2)))\n",
    "            print(\"Date Sell: %s, Price Sell: %s\" % (sell_date, round(sell_price, 2)))\n",
    "            print(\"Return: %s%%\" % round(pct_return * 100, 1))\n",
    "            print(\"-------------------\")\n",
    "\n",
    "    # if no data collected return default values\n",
    "    if len(pct_return_after_period) == 0:\n",
    "        return -np.inf, np.inf, None\n",
    "\n",
    "    # report average and deviation of the percent returns\n",
    "    return (\n",
    "        np.mean(pct_return_after_period),\n",
    "        np.std(pct_return_after_period),\n",
    "        [buy_dates, pct_return_after_period],\n",
    "    )"
   ]
  },
  {
   "cell_type": "markdown",
   "metadata": {},
   "source": [
    "# User Input Area"
   ]
  },
  {
   "cell_type": "code",
   "execution_count": 4,
   "metadata": {},
   "outputs": [],
   "source": [
    "# start date for simulation.\n",
    "# Further back means more training data but risk of including patterns that no longer exist\n",
    "# More recent means less training data but only using recent patterns\n",
    "start_date, end_date = datetime(2020, 4, 1), datetime.now().date()\n",
    "\n",
    "# set number of weeks in which you want to see return\n",
    "return_period_weeks = 4\n",
    "\n",
    "# I want at least this much average return\n",
    "min_avg_return = 0.1\n",
    "\n",
    "# I want at most this much volatility in return\n",
    "max_dev_return = 0.07"
   ]
  },
  {
   "cell_type": "code",
   "execution_count": 17,
   "metadata": {},
   "outputs": [],
   "source": [
    "# Download file \"series_tickers.p\" from github or create your own list of tickers\n",
    "series_tickers = pickle.load(open(\"data/series_tickers.p\", \"rb\"))"
   ]
  },
  {
   "cell_type": "code",
   "execution_count": 18,
   "metadata": {},
   "outputs": [
    {
     "data": {
      "text/plain": [
       "Symbol\n",
       "VG                   Vonage Holdings Corp. - Common Stock\n",
       "CDNS          Cadence Design Systems, Inc. - Common Stock\n",
       "UONE              Urban One, Inc.  - Class A Common Stock\n",
       "AVGO                         Broadcom Inc. - Common Stock\n",
       "ADBE                            Adobe Inc. - Common Stock\n",
       "                              ...                        \n",
       "CAR                Avis Budget Group, Inc. - Common Stock\n",
       "TNXP    Tonix Pharmaceuticals Holding Corp. - Common S...\n",
       "ZS                           Zscaler, Inc. - Common Stock\n",
       "MGI          Moneygram International, Inc. - Common Stock\n",
       "HOLX                         Hologic, Inc. - Common Stock\n",
       "Name: Security Name, Length: 304, dtype: object"
      ]
     },
     "execution_count": 18,
     "metadata": {},
     "output_type": "execute_result"
    }
   ],
   "source": [
    "series_tickers"
   ]
  },
  {
   "cell_type": "code",
   "execution_count": 19,
   "metadata": {
    "scrolled": false
   },
   "outputs": [
    {
     "data": {
      "application/vnd.jupyter.widget-view+json": {
       "model_id": "fe7f8f108823446689e9ab31c1edb646",
       "version_major": 2,
       "version_minor": 0
      },
      "text/plain": [
       "0it [00:00, ?it/s]"
      ]
     },
     "metadata": {},
     "output_type": "display_data"
    }
   ],
   "source": [
    "for ticker, name in tqdm(series_tickers.iteritems()):\n",
    "    avg_return, dev_return, all_returns = perform_analysis_for_stock(\n",
    "        ticker, start_date, end_date, return_period_weeks\n",
    "    )\n",
    "\n",
    "    if avg_return > min_avg_return and dev_return < max_dev_return:\n",
    "        title_price = \"%s\\n%s\" % (ticker, name)\n",
    "        title_return = \"Avg Return: %s%% | Dev Return: %s%%\" % (\n",
    "            round(100 * avg_return, 2),\n",
    "            round(100 * dev_return, 2),\n",
    "        )\n",
    "        plot_stock_trend_and_returns(\n",
    "            ticker, [title_price, title_return], start_date, end_date, all_returns\n",
    "        )"
   ]
  }
 ],
 "metadata": {
  "kernelspec": {
   "display_name": "Python 3 (ipykernel)",
   "language": "python",
   "name": "python3"
  },
  "language_info": {
   "codemirror_mode": {
    "name": "ipython",
    "version": 3
   },
   "file_extension": ".py",
   "mimetype": "text/x-python",
   "name": "python",
   "nbconvert_exporter": "python",
   "pygments_lexer": "ipython3",
   "version": "3.7.10"
  }
 },
 "nbformat": 4,
 "nbformat_minor": 4
}

{
 "cells": [
  {
   "cell_type": "markdown",
   "metadata": {},
   "source": [
    "# Imports"
   ]
  },
  {
   "cell_type": "code",
   "execution_count": 2,
   "metadata": {},
   "outputs": [],
   "source": [
    "import numpy as np\n",
    "from numpy.random import seed\n",
    "\n",
    "seed(1)\n",
    "import matplotlib.pyplot as plt\n",
    "import pandas as pd\n",
    "import string\n",
    "import os\n",
    "import shutil\n",
    "import re\n",
    "\n",
    "# tensorflow = library specializing in neural networks\n",
    "import tensorflow as tf\n",
    "\n",
    "# keras = python interface for neural networks\n",
    "# runs on top of tensorflow (tensorflow is backend)\n",
    "# more use friendly\n",
    "\n",
    "from keras.models import Sequential\n",
    "from keras.layers import SimpleRNN, Dense, Embedding\n",
    "from tensorflow.keras.layers import TextVectorization\n",
    "from keras.optimizers import Adam\n",
    "\n",
    "from sklearn.linear_model import LinearRegression"
   ]
  },
  {
   "cell_type": "markdown",
   "metadata": {},
   "source": [
    "---"
   ]
  },
  {
   "cell_type": "markdown",
   "metadata": {},
   "source": [
    "# Generate Training Data"
   ]
  },
  {
   "cell_type": "code",
   "execution_count": 3,
   "metadata": {},
   "outputs": [],
   "source": [
    "# generate sequence\n",
    "sequence = np.array(list(range(10))).astype(float)"
   ]
  },
  {
   "cell_type": "code",
   "execution_count": 4,
   "metadata": {},
   "outputs": [
    {
     "data": {
      "text/plain": [
       "array([0., 1., 2., 3., 4., 5., 6., 7., 8., 9.])"
      ]
     },
     "execution_count": 4,
     "metadata": {},
     "output_type": "execute_result"
    }
   ],
   "source": [
    "sequence"
   ]
  },
  {
   "cell_type": "code",
   "execution_count": 5,
   "metadata": {},
   "outputs": [],
   "source": [
    "# number of training words\n",
    "window_size = 3"
   ]
  },
  {
   "cell_type": "code",
   "execution_count": 6,
   "metadata": {},
   "outputs": [],
   "source": [
    "# generate training data\n",
    "train_data = [\n",
    "    np.array(sequence[i : i + window_size]).reshape(1, -1)\n",
    "    for i in range(sequence.shape[0] - window_size)\n",
    "]\n",
    "train_data = np.concatenate(train_data * 10, axis=0)\n",
    "train_data = train_data.reshape(train_data.shape[0], train_data.shape[1], 1)"
   ]
  },
  {
   "cell_type": "code",
   "execution_count": 7,
   "metadata": {},
   "outputs": [
    {
     "data": {
      "text/plain": [
       "(70, 3, 1)"
      ]
     },
     "execution_count": 7,
     "metadata": {},
     "output_type": "execute_result"
    }
   ],
   "source": [
    "train_data.shape"
   ]
  },
  {
   "cell_type": "code",
   "execution_count": 8,
   "metadata": {},
   "outputs": [
    {
     "data": {
      "text/plain": [
       "array([[[0.],\n",
       "        [1.],\n",
       "        [2.]],\n",
       "\n",
       "       [[1.],\n",
       "        [2.],\n",
       "        [3.]],\n",
       "\n",
       "       [[2.],\n",
       "        [3.],\n",
       "        [4.]]])"
      ]
     },
     "execution_count": 8,
     "metadata": {},
     "output_type": "execute_result"
    }
   ],
   "source": [
    "train_data[:3]"
   ]
  },
  {
   "cell_type": "code",
   "execution_count": 9,
   "metadata": {},
   "outputs": [],
   "source": [
    "# get training labels\n",
    "train_label = [\n",
    "    sequence[i + window_size] for i in range(sequence.shape[0] - window_size)\n",
    "]\n",
    "train_label = np.concatenate([train_label] * 10).reshape(-1, 1)"
   ]
  },
  {
   "cell_type": "code",
   "execution_count": 10,
   "metadata": {},
   "outputs": [
    {
     "data": {
      "text/plain": [
       "array([[3.],\n",
       "       [4.],\n",
       "       [5.]])"
      ]
     },
     "execution_count": 10,
     "metadata": {},
     "output_type": "execute_result"
    }
   ],
   "source": [
    "train_label[:3]"
   ]
  },
  {
   "cell_type": "markdown",
   "metadata": {},
   "source": [
    "# Train Model"
   ]
  },
  {
   "cell_type": "code",
   "execution_count": 11,
   "metadata": {
    "scrolled": true
   },
   "outputs": [
    {
     "name": "stderr",
     "output_type": "stream",
     "text": [
      "2022-11-15 00:47:47.427011: W tensorflow/stream_executor/platform/default/dso_loader.cc:64] Could not load dynamic library 'libcudnn.so.8'; dlerror: libcudnn.so.8: cannot open shared object file: No such file or directory\n",
      "2022-11-15 00:47:47.427077: W tensorflow/core/common_runtime/gpu/gpu_device.cc:1850] Cannot dlopen some GPU libraries. Please make sure the missing libraries mentioned above are installed properly if you would like to use GPU. Follow the guide at https://www.tensorflow.org/install/gpu for how to download and setup the required libraries for your platform.\n",
      "Skipping registering GPU devices...\n"
     ]
    },
    {
     "name": "stdout",
     "output_type": "stream",
     "text": [
      "Epoch 1/100\n",
      "3/3 [==============================] - 3s 7ms/step - loss: 60.5196 - mse: 60.5196\n",
      "Epoch 2/100\n",
      "3/3 [==============================] - 0s 4ms/step - loss: 115.6184 - mse: 115.6184\n",
      "Epoch 3/100\n",
      "3/3 [==============================] - 0s 4ms/step - loss: 18.6430 - mse: 18.6430\n",
      "Epoch 4/100\n",
      "3/3 [==============================] - 0s 3ms/step - loss: 3.2210 - mse: 3.2210\n",
      "Epoch 5/100\n",
      "3/3 [==============================] - 0s 4ms/step - loss: 19.4650 - mse: 19.4650\n",
      "Epoch 6/100\n",
      "3/3 [==============================] - 0s 4ms/step - loss: 25.2615 - mse: 25.2615\n",
      "Epoch 7/100\n",
      "3/3 [==============================] - 0s 4ms/step - loss: 10.1116 - mse: 10.1116\n",
      "Epoch 8/100\n",
      "3/3 [==============================] - 0s 4ms/step - loss: 0.8743 - mse: 0.8743\n",
      "Epoch 9/100\n",
      "3/3 [==============================] - 0s 3ms/step - loss: 2.9697 - mse: 2.9697\n",
      "Epoch 10/100\n",
      "3/3 [==============================] - 0s 3ms/step - loss: 5.9855 - mse: 5.9855\n",
      "Epoch 11/100\n",
      "3/3 [==============================] - 0s 3ms/step - loss: 1.2600 - mse: 1.2600\n",
      "Epoch 12/100\n",
      "3/3 [==============================] - 0s 4ms/step - loss: 3.4267 - mse: 3.4267\n",
      "Epoch 13/100\n",
      "3/3 [==============================] - 0s 3ms/step - loss: 0.2845 - mse: 0.2845\n",
      "Epoch 14/100\n",
      "3/3 [==============================] - 0s 3ms/step - loss: 2.5273 - mse: 2.5273\n",
      "Epoch 15/100\n",
      "3/3 [==============================] - 0s 3ms/step - loss: 1.3859 - mse: 1.3859\n",
      "Epoch 16/100\n",
      "3/3 [==============================] - 0s 3ms/step - loss: 0.2216 - mse: 0.2216    \n",
      "Epoch 17/100\n",
      "3/3 [==============================] - 0s 3ms/step - loss: 0.6795 - mse: 0.6795\n",
      "Epoch 18/100\n",
      "3/3 [==============================] - 0s 3ms/step - loss: 0.0297 - mse: 0.0297\n",
      "Epoch 19/100\n",
      "3/3 [==============================] - 0s 3ms/step - loss: 0.1897 - mse: 0.1897\n",
      "Epoch 20/100\n",
      "3/3 [==============================] - 0s 3ms/step - loss: 0.1659 - mse: 0.1659\n",
      "Epoch 21/100\n",
      "3/3 [==============================] - 0s 4ms/step - loss: 0.0496 - mse: 0.0496\n",
      "Epoch 22/100\n",
      "3/3 [==============================] - 0s 4ms/step - loss: 0.0886 - mse: 0.0886\n",
      "Epoch 23/100\n",
      "3/3 [==============================] - 0s 3ms/step - loss: 0.1185 - mse: 0.1185\n",
      "Epoch 24/100\n",
      "3/3 [==============================] - 0s 4ms/step - loss: 0.0601 - mse: 0.0601\n",
      "Epoch 25/100\n",
      "3/3 [==============================] - 0s 3ms/step - loss: 0.0432 - mse: 0.0432\n",
      "Epoch 26/100\n",
      "3/3 [==============================] - 0s 3ms/step - loss: 0.0575 - mse: 0.0575\n",
      "Epoch 27/100\n",
      "3/3 [==============================] - 0s 3ms/step - loss: 0.0408 - mse: 0.0408\n",
      "Epoch 28/100\n",
      "3/3 [==============================] - 0s 3ms/step - loss: 0.0252 - mse: 0.0252\n",
      "Epoch 29/100\n",
      "3/3 [==============================] - 0s 3ms/step - loss: 0.0251 - mse: 0.0251\n",
      "Epoch 30/100\n",
      "3/3 [==============================] - 0s 3ms/step - loss: 0.0206 - mse: 0.0206\n",
      "Epoch 31/100\n",
      "3/3 [==============================] - 0s 3ms/step - loss: 0.0137 - mse: 0.0137\n",
      "Epoch 32/100\n",
      "3/3 [==============================] - 0s 3ms/step - loss: 0.0116 - mse: 0.0116\n",
      "Epoch 33/100\n",
      "3/3 [==============================] - 0s 3ms/step - loss: 0.0092 - mse: 0.0092\n",
      "Epoch 34/100\n",
      "3/3 [==============================] - 0s 4ms/step - loss: 0.0055 - mse: 0.0055\n",
      "Epoch 35/100\n",
      "3/3 [==============================] - 0s 4ms/step - loss: 0.0043 - mse: 0.0043\n",
      "Epoch 36/100\n",
      "3/3 [==============================] - 0s 3ms/step - loss: 0.0036 - mse: 0.0036\n",
      "Epoch 37/100\n",
      "3/3 [==============================] - 0s 3ms/step - loss: 0.0017 - mse: 0.0017\n",
      "Epoch 38/100\n",
      "3/3 [==============================] - 0s 3ms/step - loss: 0.0013 - mse: 0.0013\n",
      "Epoch 39/100\n",
      "3/3 [==============================] - 0s 4ms/step - loss: 9.8451e-04 - mse: 9.8451e-04\n",
      "Epoch 40/100\n",
      "3/3 [==============================] - 0s 3ms/step - loss: 2.6219e-04 - mse: 2.6219e-04\n",
      "Epoch 41/100\n",
      "3/3 [==============================] - 0s 3ms/step - loss: 3.2432e-04 - mse: 3.2432e-04\n",
      "Epoch 42/100\n",
      "3/3 [==============================] - 0s 3ms/step - loss: 2.2940e-04 - mse: 2.2940e-04\n",
      "Epoch 43/100\n",
      "3/3 [==============================] - 0s 3ms/step - loss: 1.6796e-05 - mse: 1.6796e-05\n",
      "Epoch 44/100\n",
      "3/3 [==============================] - 0s 4ms/step - loss: 1.3279e-04 - mse: 1.3279e-04\n",
      "Epoch 45/100\n",
      "3/3 [==============================] - 0s 3ms/step - loss: 7.1588e-05 - mse: 7.1588e-05\n",
      "Epoch 46/100\n",
      "3/3 [==============================] - 0s 3ms/step - loss: 3.4822e-05 - mse: 3.4822e-05\n",
      "Epoch 47/100\n",
      "3/3 [==============================] - 0s 3ms/step - loss: 8.8915e-05 - mse: 8.8915e-05\n",
      "Epoch 48/100\n",
      "3/3 [==============================] - 0s 3ms/step - loss: 3.9483e-05 - mse: 3.9483e-05\n",
      "Epoch 49/100\n",
      "3/3 [==============================] - 0s 3ms/step - loss: 6.1478e-05 - mse: 6.1478e-05\n",
      "Epoch 50/100\n",
      "3/3 [==============================] - 0s 3ms/step - loss: 5.3066e-05 - mse: 5.3066e-05\n",
      "Epoch 51/100\n",
      "3/3 [==============================] - 0s 3ms/step - loss: 2.3295e-05 - mse: 2.3295e-05\n",
      "Epoch 52/100\n",
      "3/3 [==============================] - 0s 4ms/step - loss: 3.5459e-05 - mse: 3.5459e-05\n",
      "Epoch 53/100\n",
      "3/3 [==============================] - 0s 3ms/step - loss: 1.5300e-05 - mse: 1.5300e-05\n",
      "Epoch 54/100\n",
      "3/3 [==============================] - 0s 3ms/step - loss: 1.6219e-05 - mse: 1.6219e-05\n",
      "Epoch 55/100\n",
      "3/3 [==============================] - 0s 3ms/step - loss: 1.1928e-05 - mse: 1.1928e-05\n",
      "Epoch 56/100\n",
      "3/3 [==============================] - 0s 3ms/step - loss: 3.1470e-06 - mse: 3.1470e-06\n",
      "Epoch 57/100\n",
      "3/3 [==============================] - 0s 3ms/step - loss: 4.6765e-06 - mse: 4.6765e-06\n",
      "Epoch 58/100\n",
      "3/3 [==============================] - 0s 4ms/step - loss: 5.3962e-07 - mse: 5.3962e-07\n",
      "Epoch 59/100\n",
      "3/3 [==============================] - 0s 4ms/step - loss: 1.1851e-06 - mse: 1.1851e-06\n",
      "Epoch 60/100\n",
      "3/3 [==============================] - 0s 4ms/step - loss: 8.0940e-07 - mse: 8.0940e-07\n",
      "Epoch 61/100\n",
      "3/3 [==============================] - 0s 4ms/step - loss: 2.4734e-07 - mse: 2.4734e-07\n",
      "Epoch 62/100\n",
      "3/3 [==============================] - 0s 3ms/step - loss: 7.4486e-07 - mse: 7.4486e-07\n",
      "Epoch 63/100\n",
      "3/3 [==============================] - 0s 3ms/step - loss: 2.7030e-07 - mse: 2.7030e-07\n",
      "Epoch 64/100\n",
      "3/3 [==============================] - 0s 4ms/step - loss: 4.8148e-07 - mse: 4.8148e-07\n",
      "Epoch 65/100\n",
      "3/3 [==============================] - 0s 4ms/step - loss: 3.4839e-07 - mse: 3.4839e-07\n",
      "Epoch 66/100\n",
      "3/3 [==============================] - 0s 3ms/step - loss: 2.8733e-07 - mse: 2.8733e-07\n",
      "Epoch 67/100\n",
      "3/3 [==============================] - 0s 3ms/step - loss: 2.4540e-07 - mse: 2.4540e-07\n",
      "Epoch 68/100\n",
      "3/3 [==============================] - 0s 3ms/step - loss: 1.2246e-07 - mse: 1.2246e-07\n",
      "Epoch 69/100\n",
      "3/3 [==============================] - 0s 4ms/step - loss: 1.3906e-07 - mse: 1.3906e-07\n",
      "Epoch 70/100\n",
      "3/3 [==============================] - 0s 3ms/step - loss: 5.2991e-08 - mse: 5.2991e-08\n",
      "Epoch 71/100\n",
      "3/3 [==============================] - 0s 3ms/step - loss: 4.6209e-08 - mse: 4.6209e-08\n",
      "Epoch 72/100\n",
      "3/3 [==============================] - 0s 3ms/step - loss: 3.0100e-08 - mse: 3.0100e-08\n",
      "Epoch 73/100\n",
      "3/3 [==============================] - 0s 3ms/step - loss: 6.3293e-09 - mse: 6.3293e-09\n",
      "Epoch 74/100\n",
      "3/3 [==============================] - 0s 3ms/step - loss: 1.7544e-08 - mse: 1.7544e-08\n",
      "Epoch 75/100\n",
      "3/3 [==============================] - 0s 3ms/step - loss: 1.6028e-09 - mse: 1.6028e-09\n",
      "Epoch 76/100\n",
      "3/3 [==============================] - 0s 3ms/step - loss: 9.5745e-09 - mse: 9.5745e-09\n",
      "Epoch 77/100\n",
      "3/3 [==============================] - 0s 3ms/step - loss: 5.3044e-09 - mse: 5.3044e-09\n",
      "Epoch 78/100\n",
      "3/3 [==============================] - 0s 4ms/step - loss: 6.1558e-09 - mse: 6.1558e-09\n",
      "Epoch 79/100\n",
      "3/3 [==============================] - 0s 3ms/step - loss: 5.6181e-09 - mse: 5.6181e-09\n",
      "Epoch 80/100\n",
      "3/3 [==============================] - 0s 3ms/step - loss: 2.8307e-09 - mse: 2.8307e-09\n",
      "Epoch 81/100\n",
      "3/3 [==============================] - 0s 3ms/step - loss: 2.9243e-09 - mse: 2.9243e-09\n",
      "Epoch 82/100\n",
      "3/3 [==============================] - 0s 3ms/step - loss: 1.6620e-09 - mse: 1.6620e-09\n",
      "Epoch 83/100\n",
      "3/3 [==============================] - 0s 3ms/step - loss: 1.8109e-09 - mse: 1.8109e-09\n",
      "Epoch 84/100\n",
      "3/3 [==============================] - 0s 3ms/step - loss: 5.5943e-10 - mse: 5.5943e-10\n",
      "Epoch 85/100\n"
     ]
    },
    {
     "name": "stdout",
     "output_type": "stream",
     "text": [
      "3/3 [==============================] - 0s 4ms/step - loss: 6.6119e-10 - mse: 6.6119e-10\n",
      "Epoch 86/100\n",
      "3/3 [==============================] - 0s 3ms/step - loss: 1.4979e-10 - mse: 1.4979e-10\n",
      "Epoch 87/100\n",
      "3/3 [==============================] - 0s 4ms/step - loss: 3.2156e-10 - mse: 3.2156e-10\n",
      "Epoch 88/100\n",
      "3/3 [==============================] - 0s 5ms/step - loss: 5.7553e-11 - mse: 5.7553e-11\n",
      "Epoch 89/100\n",
      "3/3 [==============================] - 0s 3ms/step - loss: 1.6866e-10 - mse: 1.6866e-10\n",
      "Epoch 90/100\n",
      "3/3 [==============================] - 0s 3ms/step - loss: 8.4755e-11 - mse: 8.4755e-11\n",
      "Epoch 91/100\n",
      "3/3 [==============================] - 0s 4ms/step - loss: 9.1291e-11 - mse: 9.1291e-11\n",
      "Epoch 92/100\n",
      "3/3 [==============================] - 0s 4ms/step - loss: 1.0678e-10 - mse: 1.0678e-10\n",
      "Epoch 93/100\n",
      "3/3 [==============================] - 0s 3ms/step - loss: 5.7119e-11 - mse: 5.7119e-11\n",
      "Epoch 94/100\n",
      "3/3 [==============================] - 0s 3ms/step - loss: 8.3375e-11 - mse: 8.3375e-11\n",
      "Epoch 95/100\n",
      "3/3 [==============================] - 0s 3ms/step - loss: 2.8479e-11 - mse: 2.8479e-11\n",
      "Epoch 96/100\n",
      "3/3 [==============================] - 0s 3ms/step - loss: 4.9798e-11 - mse: 4.9798e-11\n",
      "Epoch 97/100\n",
      "3/3 [==============================] - 0s 3ms/step - loss: 1.9083e-11 - mse: 1.9083e-11\n",
      "Epoch 98/100\n",
      "3/3 [==============================] - 0s 3ms/step - loss: 3.6948e-11 - mse: 3.6948e-11\n",
      "Epoch 99/100\n",
      "3/3 [==============================] - 0s 3ms/step - loss: 6.8172e-12 - mse: 6.8172e-12\n",
      "Epoch 100/100\n",
      "3/3 [==============================] - 0s 3ms/step - loss: 1.9478e-11 - mse: 1.9478e-11\n"
     ]
    },
    {
     "data": {
      "text/plain": [
       "<keras.callbacks.History at 0x7f2a283a4650>"
      ]
     },
     "execution_count": 11,
     "metadata": {},
     "output_type": "execute_result"
    }
   ],
   "source": [
    "# init model\n",
    "model = Sequential()\n",
    "\n",
    "# RNN\n",
    "model.add(SimpleRNN(1, activation=\"linear\"))\n",
    "\n",
    "# compile model\n",
    "opt = Adam(learning_rate=1)\n",
    "model.compile(loss=\"mean_squared_error\", optimizer=opt, metrics=[\"mse\"])\n",
    "\n",
    "# train model\n",
    "model.fit(train_data, train_label, epochs=100, verbose=1)"
   ]
  },
  {
   "cell_type": "code",
   "execution_count": 12,
   "metadata": {},
   "outputs": [
    {
     "name": "stdout",
     "output_type": "stream",
     "text": [
      "Model: \"sequential\"\n",
      "_________________________________________________________________\n",
      " Layer (type)                Output Shape              Param #   \n",
      "=================================================================\n",
      " simple_rnn (SimpleRNN)      (None, 1)                 3         \n",
      "                                                                 \n",
      "=================================================================\n",
      "Total params: 3\n",
      "Trainable params: 3\n",
      "Non-trainable params: 0\n",
      "_________________________________________________________________\n"
     ]
    }
   ],
   "source": [
    "model.summary()"
   ]
  },
  {
   "cell_type": "markdown",
   "metadata": {},
   "source": [
    "## Hmm why are there 3 parameters and not 4?"
   ]
  },
  {
   "cell_type": "markdown",
   "metadata": {},
   "source": [
    "## SimpleRNN simply uses the output layer as the hidden state:\n",
    "https://datascience.stackexchange.com/questions/94644/does-the-simplernn-in-keras-have-a-hidden-state-or-does-it-just-use-the-output"
   ]
  },
  {
   "cell_type": "markdown",
   "metadata": {},
   "source": [
    "# Predict Using Model"
   ]
  },
  {
   "cell_type": "markdown",
   "metadata": {},
   "source": [
    "## On Known Data"
   ]
  },
  {
   "cell_type": "code",
   "execution_count": 13,
   "metadata": {},
   "outputs": [
    {
     "name": "stdout",
     "output_type": "stream",
     "text": [
      "3/3 [==============================] - 0s 2ms/step\n"
     ]
    }
   ],
   "source": [
    "# make predictions using the model\n",
    "preds = model.predict(train_data).flatten()"
   ]
  },
  {
   "cell_type": "code",
   "execution_count": 14,
   "metadata": {
    "scrolled": true
   },
   "outputs": [
    {
     "name": "stdout",
     "output_type": "stream",
     "text": [
      "[0. 1. 2.] -> 2.9999983310699463\n",
      "[1. 2. 3.] -> 3.999997854232788\n",
      "[2. 3. 4.] -> 4.999996662139893\n"
     ]
    }
   ],
   "source": [
    "# print some outputs\n",
    "for i in range(len(preds[:3])):\n",
    "    example = train_data[i].flatten()\n",
    "    pred = preds[i]\n",
    "    print(f\"{example} -> {pred}\")"
   ]
  },
  {
   "cell_type": "code",
   "execution_count": 15,
   "metadata": {},
   "outputs": [
    {
     "data": {
      "text/plain": [
       "Text(0, 0.5, 'actual')"
      ]
     },
     "execution_count": 15,
     "metadata": {},
     "output_type": "execute_result"
    },
    {
     "data": {
      "image/png": "[encoded data removed]",
      "text/plain": [
       "<Figure size 504x504 with 1 Axes>"
      ]
     },
     "metadata": {
      "needs_background": "light"
     },
     "output_type": "display_data"
    }
   ],
   "source": [
    "plt.figure(figsize=(7, 7))\n",
    "actuals = train_label.flatten()\n",
    "plt.plot([0, 10], [0, 10], color=\"k\", linestyle=\"--\", alpha=0.5, linewidth=2)\n",
    "plt.scatter(preds, actuals, s=100, color=\"r\")\n",
    "plt.xlabel(\"predicted\", fontsize=20)\n",
    "plt.ylabel(\"actual\", fontsize=20)"
   ]
  },
  {
   "cell_type": "markdown",
   "metadata": {},
   "source": [
    "## On Unknown Data"
   ]
  },
  {
   "cell_type": "code",
   "execution_count": 16,
   "metadata": {},
   "outputs": [],
   "source": [
    "out_of_sample_data = np.array(\n",
    "    [[6, 7, 8], [7, 8, 9], [8, 9, 10], [9, 10, 11], [10, 11, 12]]\n",
    ").reshape(5, 3, 1)"
   ]
  },
  {
   "cell_type": "code",
   "execution_count": 17,
   "metadata": {},
   "outputs": [
    {
     "name": "stdout",
     "output_type": "stream",
     "text": [
      "1/1 [==============================] - 0s 127ms/step\n"
     ]
    }
   ],
   "source": [
    "# make predictions using the model\n",
    "preds = model.predict(out_of_sample_data).flatten()"
   ]
  },
  {
   "cell_type": "code",
   "execution_count": 18,
   "metadata": {},
   "outputs": [
    {
     "name": "stdout",
     "output_type": "stream",
     "text": [
      "[6 7 8] -> 8.999994277954102\n",
      "[7 8 9] -> 9.999994277954102\n",
      "[ 8  9 10] -> 10.999994277954102\n",
      "[ 9 10 11] -> 11.999992370605469\n",
      "[10 11 12] -> 12.999991416931152\n"
     ]
    }
   ],
   "source": [
    "# print some outputs\n",
    "for i in range(len(preds)):\n",
    "    example = out_of_sample_data[i].flatten()\n",
    "    pred = preds[i]\n",
    "    print(f\"{example} -> {pred}\")"
   ]
  },
  {
   "cell_type": "markdown",
   "metadata": {},
   "source": [
    "# A Look Under the Hood"
   ]
  },
  {
   "cell_type": "code",
   "execution_count": 19,
   "metadata": {},
   "outputs": [
    {
     "data": {
      "text/plain": [
       "array([[1.2625641]], dtype=float32)"
      ]
     },
     "execution_count": 19,
     "metadata": {},
     "output_type": "execute_result"
    }
   ],
   "source": [
    "# input vector weights in RNN (U)\n",
    "model.weights[0].numpy()"
   ]
  },
  {
   "cell_type": "code",
   "execution_count": 20,
   "metadata": {},
   "outputs": [
    {
     "data": {
      "text/plain": [
       "array([[-0.705033]], dtype=float32)"
      ]
     },
     "execution_count": 20,
     "metadata": {},
     "output_type": "execute_result"
    }
   ],
   "source": [
    "# recurrent state weights in RNN (V)\n",
    "model.weights[1].numpy()"
   ]
  },
  {
   "cell_type": "code",
   "execution_count": 21,
   "metadata": {},
   "outputs": [
    {
     "data": {
      "text/plain": [
       "array([1.7234256], dtype=float32)"
      ]
     },
     "execution_count": 21,
     "metadata": {},
     "output_type": "execute_result"
    }
   ],
   "source": [
    "# bias term weights in RNN (b)\n",
    "model.weights[2].numpy()"
   ]
  },
  {
   "cell_type": "markdown",
   "metadata": {},
   "source": [
    "# So the model has learned that\n",
    "## $y_t = 0.93x_t + 0.07y_{t-1} + 1$\n",
    "## $y_t = 0.93x_t + 0.07x_t + 1$\n",
    "## $y_t = x_t + 1$"
   ]
  },
  {
   "cell_type": "markdown",
   "metadata": {},
   "source": [
    "# But ... this isn't that impressive"
   ]
  },
  {
   "cell_type": "code",
   "execution_count": 22,
   "metadata": {},
   "outputs": [
    {
     "data": {
      "text/plain": [
       "LinearRegression()"
      ]
     },
     "execution_count": 22,
     "metadata": {},
     "output_type": "execute_result"
    }
   ],
   "source": [
    "clf = LinearRegression()\n",
    "clf.fit(train_data.reshape((train_data.shape[0], -1)), train_label.flatten())"
   ]
  },
  {
   "cell_type": "code",
   "execution_count": 23,
   "metadata": {},
   "outputs": [],
   "source": [
    "# make predictions using the linear model\n",
    "n = out_of_sample_data.shape[0]\n",
    "preds = clf.predict(out_of_sample_data.reshape(n, -1)).flatten()"
   ]
  },
  {
   "cell_type": "code",
   "execution_count": 24,
   "metadata": {},
   "outputs": [
    {
     "name": "stdout",
     "output_type": "stream",
     "text": [
      "[6 7 8] -> 9.0\n",
      "[7 8 9] -> 10.0\n",
      "[ 8  9 10] -> 11.0\n",
      "[ 9 10 11] -> 11.999999999999998\n",
      "[10 11 12] -> 13.0\n"
     ]
    }
   ],
   "source": [
    "# print some outputs\n",
    "for i in range(len(preds)):\n",
    "    example = out_of_sample_data[i].flatten()\n",
    "    pred = preds[i]\n",
    "    print(f\"{example} -> {pred}\")"
   ]
  },
  {
   "cell_type": "markdown",
   "metadata": {},
   "source": [
    "---"
   ]
  },
  {
   "cell_type": "markdown",
   "metadata": {},
   "source": [
    "# Harder Case"
   ]
  },
  {
   "cell_type": "code",
   "execution_count": 25,
   "metadata": {},
   "outputs": [],
   "source": [
    "def sigmoid(v):\n",
    "    return 1.0 / (1.0 + np.exp(-v))"
   ]
  },
  {
   "cell_type": "code",
   "execution_count": 26,
   "metadata": {},
   "outputs": [],
   "source": [
    "sequence = np.sin(np.arange(0, 6 * 3.14159, 0.1))\n",
    "sequence += np.random.normal(0, 0.05, len(sequence))"
   ]
  },
  {
   "cell_type": "code",
   "execution_count": 27,
   "metadata": {},
   "outputs": [
    {
     "data": {
      "text/plain": [
       "<matplotlib.collections.PathCollection at 0x7f2a201538d0>"
      ]
     },
     "execution_count": 27,
     "metadata": {},
     "output_type": "execute_result"
    },
    {
     "data": {
      "image/png": "[encoded data removed]",
      "text/plain": [
       "<Figure size 864x288 with 1 Axes>"
      ]
     },
     "metadata": {
      "needs_background": "light"
     },
     "output_type": "display_data"
    }
   ],
   "source": [
    "plt.figure(figsize=(12, 4))\n",
    "plt.plot(sequence)\n",
    "plt.scatter(range(len(sequence)), sequence)"
   ]
  },
  {
   "cell_type": "code",
   "execution_count": 28,
   "metadata": {},
   "outputs": [],
   "source": [
    "# generate training data\n",
    "train_data = [\n",
    "    np.array(sequence[i : i + window_size]).reshape(1, -1)\n",
    "    for i in range(sequence.shape[0] - window_size)\n",
    "]\n",
    "train_data = np.concatenate(train_data * 10, axis=0)\n",
    "train_data = train_data.reshape(train_data.shape[0], train_data.shape[1], 1)"
   ]
  },
  {
   "cell_type": "code",
   "execution_count": 29,
   "metadata": {},
   "outputs": [],
   "source": [
    "# get training labels\n",
    "train_label = [\n",
    "    sequence[i + window_size] for i in range(sequence.shape[0] - window_size)\n",
    "]\n",
    "train_label = np.concatenate([train_label] * 10).reshape(-1, 1)"
   ]
  },
  {
   "cell_type": "markdown",
   "metadata": {},
   "source": [
    "## Try a Linear Model"
   ]
  },
  {
   "cell_type": "code",
   "execution_count": 30,
   "metadata": {},
   "outputs": [
    {
     "data": {
      "text/plain": [
       "LinearRegression()"
      ]
     },
     "execution_count": 30,
     "metadata": {},
     "output_type": "execute_result"
    }
   ],
   "source": [
    "clf = LinearRegression()\n",
    "clf.fit(train_data.reshape((train_data.shape[0], -1)), train_label.flatten())"
   ]
  },
  {
   "cell_type": "code",
   "execution_count": 31,
   "metadata": {},
   "outputs": [],
   "source": [
    "# make predictions using the linear model\n",
    "preds = []\n",
    "input_vec = train_data[-1].copy()\n",
    "for _ in range(15):\n",
    "    pred = clf.predict(input_vec.reshape(1, -1)).flatten()\n",
    "    preds.append(pred[0])\n",
    "    input_vec[0][-1] = pred[0]"
   ]
  },
  {
   "cell_type": "code",
   "execution_count": 32,
   "metadata": {},
   "outputs": [
    {
     "data": {
      "text/plain": [
       "<matplotlib.collections.PathCollection at 0x7f2a200b3bd0>"
      ]
     },
     "execution_count": 32,
     "metadata": {},
     "output_type": "execute_result"
    },
    {
     "data": {
      "image/png": "[encoded data removed]",
      "text/plain": [
       "<Figure size 864x288 with 1 Axes>"
      ]
     },
     "metadata": {
      "needs_background": "light"
     },
     "output_type": "display_data"
    }
   ],
   "source": [
    "plt.figure(figsize=(12, 4))\n",
    "plt.plot(sequence)\n",
    "plt.scatter(range(len(sequence)), sequence)\n",
    "plt.scatter(range(len(sequence) + 1, len(sequence) + 15), preds[1:])"
   ]
  },
  {
   "cell_type": "markdown",
   "metadata": {},
   "source": [
    "## Train an RNN"
   ]
  },
  {
   "cell_type": "code",
   "execution_count": 33,
   "metadata": {},
   "outputs": [
    {
     "name": "stdout",
     "output_type": "stream",
     "text": [
      "Epoch 1/25\n",
      "59/59 [==============================] - 1s 2ms/step - loss: 0.0232 - mse: 0.0232\n",
      "Epoch 2/25\n",
      "59/59 [==============================] - 0s 2ms/step - loss: 0.0071 - mse: 0.0071\n",
      "Epoch 3/25\n",
      "59/59 [==============================] - 0s 2ms/step - loss: 0.0071 - mse: 0.0071\n",
      "Epoch 4/25\n",
      "59/59 [==============================] - 0s 2ms/step - loss: 0.0073 - mse: 0.0073\n",
      "Epoch 5/25\n",
      "59/59 [==============================] - 0s 2ms/step - loss: 0.0072 - mse: 0.0072\n",
      "Epoch 6/25\n",
      "59/59 [==============================] - 0s 2ms/step - loss: 0.0077 - mse: 0.0077\n",
      "Epoch 7/25\n",
      "59/59 [==============================] - 0s 2ms/step - loss: 0.0068 - mse: 0.0068\n",
      "Epoch 8/25\n",
      "59/59 [==============================] - 0s 2ms/step - loss: 0.0082 - mse: 0.0082\n",
      "Epoch 9/25\n",
      "59/59 [==============================] - 0s 2ms/step - loss: 0.0074 - mse: 0.0074\n",
      "Epoch 10/25\n",
      "59/59 [==============================] - 0s 2ms/step - loss: 0.0079 - mse: 0.0079\n",
      "Epoch 11/25\n",
      "59/59 [==============================] - 0s 2ms/step - loss: 0.0075 - mse: 0.0075\n",
      "Epoch 12/25\n",
      "59/59 [==============================] - 0s 2ms/step - loss: 0.0082 - mse: 0.0082\n",
      "Epoch 13/25\n",
      "59/59 [==============================] - 0s 2ms/step - loss: 0.0092 - mse: 0.0092\n",
      "Epoch 14/25\n",
      "59/59 [==============================] - 0s 2ms/step - loss: 0.0084 - mse: 0.0084\n",
      "Epoch 15/25\n",
      "59/59 [==============================] - 0s 2ms/step - loss: 0.0079 - mse: 0.0079\n",
      "Epoch 16/25\n",
      "59/59 [==============================] - 0s 2ms/step - loss: 0.0095 - mse: 0.0095\n",
      "Epoch 17/25\n",
      "59/59 [==============================] - 0s 2ms/step - loss: 0.0083 - mse: 0.0083\n",
      "Epoch 18/25\n",
      "59/59 [==============================] - 0s 2ms/step - loss: 0.0077 - mse: 0.0077\n",
      "Epoch 19/25\n",
      "59/59 [==============================] - 0s 2ms/step - loss: 0.0080 - mse: 0.0080\n",
      "Epoch 20/25\n",
      "59/59 [==============================] - 0s 2ms/step - loss: 0.0081 - mse: 0.0081\n",
      "Epoch 21/25\n",
      "59/59 [==============================] - 0s 2ms/step - loss: 0.0081 - mse: 0.0081\n",
      "Epoch 22/25\n",
      "59/59 [==============================] - 0s 2ms/step - loss: 0.0076 - mse: 0.0076\n",
      "Epoch 23/25\n",
      "59/59 [==============================] - 0s 2ms/step - loss: 0.0075 - mse: 0.0075\n",
      "Epoch 24/25\n",
      "59/59 [==============================] - 0s 2ms/step - loss: 0.0082 - mse: 0.0082\n",
      "Epoch 25/25\n",
      "59/59 [==============================] - 0s 2ms/step - loss: 0.0084 - mse: 0.0084\n"
     ]
    },
    {
     "data": {
      "text/plain": [
       "<keras.callbacks.History at 0x7f2a20043550>"
      ]
     },
     "execution_count": 33,
     "metadata": {},
     "output_type": "execute_result"
    }
   ],
   "source": [
    "# init model\n",
    "model = Sequential()\n",
    "\n",
    "# RNN\n",
    "model.add(SimpleRNN(2, activation=\"tanh\"))\n",
    "\n",
    "# Dense layer\n",
    "model.add(Dense(1))\n",
    "\n",
    "# compile model\n",
    "opt = Adam(learning_rate=0.1)\n",
    "model.compile(loss=\"mean_squared_error\", optimizer=opt, metrics=[\"mse\"])\n",
    "\n",
    "# train model\n",
    "model.fit(train_data, train_label, epochs=25, verbose=1)"
   ]
  },
  {
   "cell_type": "code",
   "execution_count": 37,
   "metadata": {},
   "outputs": [
    {
     "name": "stdout",
     "output_type": "stream",
     "text": [
      "1/1 [==============================] - 0s 18ms/step\n",
      "1/1 [==============================] - 0s 20ms/step\n",
      "1/1 [==============================] - 0s 18ms/step\n",
      "1/1 [==============================] - 0s 18ms/step\n",
      "1/1 [==============================] - 0s 18ms/step\n",
      "1/1 [==============================] - 0s 17ms/step\n",
      "1/1 [==============================] - 0s 16ms/step\n",
      "1/1 [==============================] - 0s 16ms/step\n",
      "1/1 [==============================] - 0s 16ms/step\n",
      "1/1 [==============================] - 0s 18ms/step\n",
      "1/1 [==============================] - 0s 17ms/step\n",
      "1/1 [==============================] - 0s 18ms/step\n",
      "1/1 [==============================] - 0s 17ms/step\n",
      "1/1 [==============================] - 0s 16ms/step\n",
      "1/1 [==============================] - 0s 15ms/step\n"
     ]
    }
   ],
   "source": [
    "# make predictions using the rnn model\n",
    "preds = []\n",
    "input_vec = train_data[-1:].copy()\n",
    "for _ in range(15):\n",
    "    pred = model.predict(input_vec).flatten()\n",
    "    preds.append(pred[0])\n",
    "    input_vec[0][-1] = pred[0]"
   ]
  },
  {
   "cell_type": "code",
   "execution_count": 38,
   "metadata": {},
   "outputs": [
    {
     "data": {
      "text/plain": [
       "<matplotlib.collections.PathCollection at 0x7f2a205c9950>"
      ]
     },
     "execution_count": 38,
     "metadata": {},
     "output_type": "execute_result"
    },
    {
     "data": {
      "image/png": "[encoded data removed]",
      "text/plain": [
       "<Figure size 864x288 with 1 Axes>"
      ]
     },
     "metadata": {
      "needs_background": "light"
     },
     "output_type": "display_data"
    }
   ],
   "source": [
    "plt.figure(figsize=(12, 4))\n",
    "plt.plot(sequence)\n",
    "plt.scatter(range(len(sequence)), sequence)\n",
    "plt.scatter(range(len(sequence) + 1, len(sequence) + 15), preds[1:])"
   ]
  },
  {
   "cell_type": "markdown",
   "metadata": {},
   "source": [
    "---"
   ]
  },
  {
   "cell_type": "markdown",
   "metadata": {},
   "source": [
    "# Application to NLP"
   ]
  },
  {
   "cell_type": "markdown",
   "metadata": {},
   "source": [
    "## First cells copied from this tutorial: https://www.tensorflow.org/text/guide/word_embeddings"
   ]
  },
  {
   "cell_type": "code",
   "execution_count": 36,
   "metadata": {},
   "outputs": [
    {
     "name": "stdout",
     "output_type": "stream",
     "text": [
      "Downloading data from https://ai.stanford.edu/~amaas/data/sentiment/aclImdb_v1.tar.gz\n",
      "84125825/84125825 [==============================] - 70s 1us/step\n"
     ]
    },
    {
     "data": {
      "text/plain": [
       "['imdb.vocab', 'imdbEr.txt', 'README', 'test', 'train']"
      ]
     },
     "execution_count": 36,
     "metadata": {},
     "output_type": "execute_result"
    }
   ],
   "source": [
    "url = \"https://ai.stanford.edu/~amaas/data/sentiment/aclImdb_v1.tar.gz\"\n",
    "\n",
    "dataset = tf.keras.utils.get_file(\n",
    "    \"aclImdb_v1.tar.gz\", url, untar=True, cache_dir=\".\", cache_subdir=\"\"\n",
    ")\n",
    "\n",
    "dataset_dir = os.path.join(os.path.dirname(dataset), \"aclImdb\")\n",
    "os.listdir(dataset_dir)"
   ]
  },
  {
   "cell_type": "code",
   "execution_count": 40,
   "metadata": {},
   "outputs": [
    {
     "data": {
      "text/plain": [
       "['labeledBow.feat',\n",
       " 'neg',\n",
       " 'pos',\n",
       " 'unsup',\n",
       " 'unsupBow.feat',\n",
       " 'urls_neg.txt',\n",
       " 'urls_pos.txt',\n",
       " 'urls_unsup.txt']"
      ]
     },
     "execution_count": 40,
     "metadata": {},
     "output_type": "execute_result"
    }
   ],
   "source": [
    "train_dir = os.path.join(dataset_dir, \"train\")\n",
    "os.listdir(train_dir)"
   ]
  },
  {
   "cell_type": "code",
   "execution_count": 41,
   "metadata": {},
   "outputs": [],
   "source": [
    "remove_dir = os.path.join(train_dir, \"unsup\")\n",
    "shutil.rmtree(remove_dir)"
   ]
  },
  {
   "cell_type": "code",
   "execution_count": 42,
   "metadata": {},
   "outputs": [
    {
     "name": "stdout",
     "output_type": "stream",
     "text": [
      "Found 25000 files belonging to 2 classes.\n",
      "Using 20000 files for training.\n",
      "Found 25000 files belonging to 2 classes.\n",
      "Using 5000 files for validation.\n"
     ]
    }
   ],
   "source": [
    "batch_size = 1024\n",
    "seed = 123\n",
    "train_ds = tf.keras.utils.text_dataset_from_directory(\n",
    "    \"aclImdb/train\",\n",
    "    batch_size=batch_size,\n",
    "    validation_split=0.2,\n",
    "    subset=\"training\",\n",
    "    seed=seed,\n",
    ")\n",
    "val_ds = tf.keras.utils.text_dataset_from_directory(\n",
    "    \"aclImdb/train\",\n",
    "    batch_size=batch_size,\n",
    "    validation_split=0.2,\n",
    "    subset=\"validation\",\n",
    "    seed=seed,\n",
    ")"
   ]
  },
  {
   "cell_type": "code",
   "execution_count": 43,
   "metadata": {},
   "outputs": [
    {
     "name": "stdout",
     "output_type": "stream",
     "text": [
      "0 b\"Oh My God! Please, for the love of all that is holy, Do Not Watch This Movie! It it 82 minutes of my life I will never get back. Sure, I could have stopped watching half way through. But I thought it might get better. It Didn't. Anyone who actually enjoyed this movie is one seriously sick and twisted individual. No wonder us Australians/New Zealanders have a terrible reputation when it comes to making movies. Everything about this movie is horrible, from the acting to the editing. I don't even normally write reviews on here, but in this case I'll make an exception. I only wish someone had of warned me before I hired this catastrophe\"\n",
      "\n",
      "1 b'This movie is SOOOO funny!!! The acting is WONDERFUL, the Ramones are sexy, the jokes are subtle, and the plot is just what every high schooler dreams of doing to his/her school. I absolutely loved the soundtrack as well as the carefully placed cynicism. If you like monty python, You will love this film. This movie is a tad bit \"grease\"esk (without all the annoying songs). The songs that are sung are likable; you might even find yourself singing these songs once the movie is through. This musical ranks number two in musicals to me (second next to the blues brothers). But please, do not think of it as a musical per say; seeing as how the songs are so likable, it is hard to tell a carefully choreographed scene is taking place. I think of this movie as more of a comedy with undertones of romance. You will be reminded of what it was like to be a rebellious teenager; needless to say, you will be reminiscing of your old high school days after seeing this film. Highly recommended for both the family (since it is a very youthful but also for adults since there are many jokes that are funnier with age and experience.'\n",
      "\n",
      "0 b\"Alex D. Linz replaces Macaulay Culkin as the central figure in the third movie in the Home Alone empire. Four industrial spies acquire a missile guidance system computer chip and smuggle it through an airport inside a remote controlled toy car. Because of baggage confusion, grouchy Mrs. Hess (Marian Seldes) gets the car. She gives it to her neighbor, Alex (Linz), just before the spies turn up. The spies rent a house in order to burglarize each house in the neighborhood until they locate the car. Home alone with the chicken pox, Alex calls 911 each time he spots a theft in progress, but the spies always manage to elude the police while Alex is accused of making prank calls. The spies finally turn their attentions toward Alex, unaware that he has rigged devices to cleverly booby-trap his entire house. Home Alone 3 wasn't horrible, but probably shouldn't have been made, you can't just replace Macauley Culkin, Joe Pesci, or Daniel Stern. Home Alone 3 had some funny parts, but I don't like when characters are changed in a movie series, view at own risk.\"\n",
      "\n",
      "0 b\"There's a good movie lurking here, but this isn't it. The basic idea is good: to explore the moral issues that would face a group of young survivors of the apocalypse. But the logic is so muddled that it's impossible to get involved.<br /><br />For example, our four heroes are (understandably) paranoid about catching the mysterious airborne contagion that's wiped out virtually all of mankind. Yet they wear surgical masks some times, not others. Some times they're fanatical about wiping down with bleach any area touched by an infected person. Other times, they seem completely unconcerned.<br /><br />Worse, after apparently surviving some weeks or months in this new kill-or-be-killed world, these people constantly behave like total newbs. They don't bother accumulating proper equipment, or food. They're forever running out of fuel in the middle of nowhere. They don't take elementary precautions when meeting strangers. And after wading through the rotting corpses of the entire human race, they're as squeamish as sheltered debutantes. You have to constantly wonder how they could have survived this long... and even if they did, why anyone would want to make a movie about them.<br /><br />So when these dweebs stop to agonize over the moral dimensions of their actions, it's impossible to take their soul-searching seriously. Their actions would first have to make some kind of minimal sense.<br /><br />On top of all this, we must contend with the dubious acting abilities of Chris Pine. His portrayal of an arrogant young James T Kirk might have seemed shrewd, when viewed in isolation. But in Carriers he plays on exactly that same note: arrogant and boneheaded. It's impossible not to suspect that this constitutes his entire dramatic range.<br /><br />On the positive side, the film *looks* excellent. It's got an over-sharp, saturated look that really suits the southwestern US locale. But that can't save the truly feeble writing nor the paper-thin (and annoying) characters. Even if you're a fan of the end-of-the-world genre, you should save yourself the agony of watching Carriers.\"\n",
      "\n",
      "0 b'I saw this movie at an actual movie theater (probably the $2.00 one) with my cousin and uncle. We were around 11 and 12, I guess, and really into scary movies. I remember being so excited to see it because my cool uncle let us pick the movie (and we probably never got to do that again!) and sooo disappointed afterwards!! Just boring and not scary. The only redeeming thing I can remember was Corky Pigeon from Silver Spoons, and that wasn\\'t all that great, just someone I recognized. I\\'ve seen bad movies before and this one has always stuck out in my mind as the worst. This was from what I can recall, one of the most boring, non-scary, waste of our collective $6, and a waste of film. I have read some of the reviews that say it is worth a watch and I say, \"Too each his own\", but I wouldn\\'t even bother. Not even so bad it\\'s good.'\n",
      "\n"
     ]
    }
   ],
   "source": [
    "for text_batch, label_batch in train_ds.take(1):\n",
    "    for i in range(5):\n",
    "        print(label_batch[i].numpy(), text_batch.numpy()[i])\n",
    "        print()"
   ]
  },
  {
   "cell_type": "code",
   "execution_count": 44,
   "metadata": {},
   "outputs": [],
   "source": [
    "AUTOTUNE = tf.data.AUTOTUNE\n",
    "\n",
    "train_ds = train_ds.cache().prefetch(buffer_size=AUTOTUNE)\n",
    "val_ds = val_ds.cache().prefetch(buffer_size=AUTOTUNE)"
   ]
  },
  {
   "cell_type": "code",
   "execution_count": 45,
   "metadata": {},
   "outputs": [],
   "source": [
    "# Create a custom standardization function to strip HTML break tags '<br />'.\n",
    "def custom_standardization(input_data):\n",
    "    lowercase = tf.strings.lower(input_data)\n",
    "    stripped_html = tf.strings.regex_replace(lowercase, \"<br />\", \" \")\n",
    "    return tf.strings.regex_replace(\n",
    "        stripped_html, \"[%s]\" % re.escape(string.punctuation), \"\"\n",
    "    )\n",
    "\n",
    "\n",
    "# Vocabulary size and number of words in a sequence.\n",
    "vocab_size = 10000\n",
    "sequence_length = 100\n",
    "\n",
    "# Use the text vectorization layer to normalize, split, and map strings to\n",
    "# integers. Note that the layer uses the custom standardization defined above.\n",
    "# Set maximum_sequence length as all samples are not of the same length.\n",
    "vectorize_layer = TextVectorization(\n",
    "    standardize=custom_standardization,\n",
    "    max_tokens=vocab_size,\n",
    "    output_mode=\"int\",\n",
    "    output_sequence_length=sequence_length,\n",
    ")\n",
    "\n",
    "# Make a text-only dataset (no labels) and call adapt to build the vocabulary.\n",
    "text_ds = train_ds.map(lambda x, y: x)\n",
    "vectorize_layer.adapt(text_ds)"
   ]
  },
  {
   "cell_type": "code",
   "execution_count": 46,
   "metadata": {},
   "outputs": [],
   "source": [
    "embedding_dim = 16\n",
    "\n",
    "model = Sequential(\n",
    "    [\n",
    "        vectorize_layer,\n",
    "        Embedding(vocab_size, embedding_dim, name=\"embedding\"),\n",
    "        SimpleRNN(8),\n",
    "        Dense(1, activation=\"sigmoid\"),\n",
    "    ]\n",
    ")"
   ]
  },
  {
   "cell_type": "code",
   "execution_count": 47,
   "metadata": {},
   "outputs": [],
   "source": [
    "model.compile(\n",
    "    optimizer=\"adam\",\n",
    "    loss=tf.keras.losses.BinaryCrossentropy(from_logits=True),\n",
    "    metrics=[\"accuracy\"],\n",
    ")"
   ]
  },
  {
   "cell_type": "code",
   "execution_count": 48,
   "metadata": {},
   "outputs": [
    {
     "name": "stdout",
     "output_type": "stream",
     "text": [
      "Epoch 1/15\n"
     ]
    },
    {
     "name": "stderr",
     "output_type": "stream",
     "text": [
      "/home/masoud/anaconda3/envs/coding_env/lib/python3.7/site-packages/tensorflow/python/util/dispatch.py:1082: UserWarning: \"`binary_crossentropy` received `from_logits=True`, but the `output` argument was produced by a sigmoid or softmax activation and thus does not represent logits. Was this intended?\"\n",
      "  return dispatch_target(*args, **kwargs)\n"
     ]
    },
    {
     "name": "stdout",
     "output_type": "stream",
     "text": [
      "20/20 [==============================] - 60s 3s/step - loss: 0.6951 - accuracy: 0.5084 - val_loss: 0.6914 - val_accuracy: 0.5274\n",
      "Epoch 2/15\n",
      "20/20 [==============================] - 2s 78ms/step - loss: 0.6688 - accuracy: 0.6273 - val_loss: 0.6838 - val_accuracy: 0.5650\n",
      "Epoch 3/15\n",
      "20/20 [==============================] - 1s 72ms/step - loss: 0.6320 - accuracy: 0.7092 - val_loss: 0.6670 - val_accuracy: 0.6104\n",
      "Epoch 4/15\n",
      "20/20 [==============================] - 1s 74ms/step - loss: 0.5780 - accuracy: 0.7811 - val_loss: 0.6448 - val_accuracy: 0.6440\n",
      "Epoch 5/15\n",
      "20/20 [==============================] - 1s 75ms/step - loss: 0.5306 - accuracy: 0.8266 - val_loss: 0.6259 - val_accuracy: 0.6646\n",
      "Epoch 6/15\n",
      "20/20 [==============================] - 2s 79ms/step - loss: 0.5091 - accuracy: 0.8255 - val_loss: 0.6351 - val_accuracy: 0.6502\n",
      "Epoch 7/15\n",
      "20/20 [==============================] - 2s 77ms/step - loss: 0.4619 - accuracy: 0.8597 - val_loss: 0.6303 - val_accuracy: 0.6544\n",
      "Epoch 8/15\n",
      "20/20 [==============================] - 1s 74ms/step - loss: 0.4274 - accuracy: 0.8849 - val_loss: 0.6138 - val_accuracy: 0.6742\n",
      "Epoch 9/15\n",
      "20/20 [==============================] - 2s 76ms/step - loss: 0.4146 - accuracy: 0.8865 - val_loss: 0.6539 - val_accuracy: 0.6366\n",
      "Epoch 10/15\n",
      "20/20 [==============================] - 2s 75ms/step - loss: 0.4205 - accuracy: 0.8656 - val_loss: 0.6435 - val_accuracy: 0.6424\n",
      "Epoch 11/15\n",
      "20/20 [==============================] - 1s 74ms/step - loss: 0.3672 - accuracy: 0.9006 - val_loss: 0.6422 - val_accuracy: 0.6510\n",
      "Epoch 12/15\n",
      "20/20 [==============================] - 1s 72ms/step - loss: 0.3258 - accuracy: 0.9286 - val_loss: 0.6526 - val_accuracy: 0.6506\n",
      "Epoch 13/15\n",
      "20/20 [==============================] - 1s 72ms/step - loss: 0.2919 - accuracy: 0.9445 - val_loss: 0.6514 - val_accuracy: 0.6628\n",
      "Epoch 14/15\n",
      "20/20 [==============================] - 1s 72ms/step - loss: 0.2677 - accuracy: 0.9506 - val_loss: 0.6533 - val_accuracy: 0.6596\n",
      "Epoch 15/15\n",
      "20/20 [==============================] - 1s 73ms/step - loss: 0.2513 - accuracy: 0.9542 - val_loss: 0.6759 - val_accuracy: 0.6510\n"
     ]
    },
    {
     "data": {
      "text/plain": [
       "<keras.callbacks.History at 0x7f2a2069cd10>"
      ]
     },
     "execution_count": 48,
     "metadata": {},
     "output_type": "execute_result"
    }
   ],
   "source": [
    "model.fit(train_ds, validation_data=val_ds, epochs=15)"
   ]
  },
  {
   "cell_type": "code",
   "execution_count": 50,
   "metadata": {},
   "outputs": [
    {
     "name": "stdout",
     "output_type": "stream",
     "text": [
      "Model: \"sequential_2\"\n",
      "_________________________________________________________________\n",
      " Layer (type)                Output Shape              Param #   \n",
      "=================================================================\n",
      " text_vectorization (TextVec  (None, 100)              0         \n",
      " torization)                                                     \n",
      "                                                                 \n",
      " embedding (Embedding)       (None, 100, 16)           160000    \n",
      "                                                                 \n",
      " simple_rnn_2 (SimpleRNN)    (None, 8)                 200       \n",
      "                                                                 \n",
      " dense_1 (Dense)             (None, 1)                 9         \n",
      "                                                                 \n",
      "=================================================================\n",
      "Total params: 160,209\n",
      "Trainable params: 160,209\n",
      "Non-trainable params: 0\n",
      "_________________________________________________________________\n"
     ]
    }
   ],
   "source": [
    "model.summary()"
   ]
  },
  {
   "cell_type": "code",
   "execution_count": 51,
   "metadata": {},
   "outputs": [
    {
     "name": "stdout",
     "output_type": "stream",
     "text": [
      "The movie was a great master piece\n",
      "0.77639776\n",
      "\n",
      "That was terrible\n",
      "0.21766368\n",
      "\n"
     ]
    },
    {
     "ename": "KeyboardInterrupt",
     "evalue": "Interrupted by user",
     "output_type": "error",
     "traceback": [
      "\u001b[0;31m---------------------------------------------------------------------------\u001b[0m",
      "\u001b[0;31mKeyboardInterrupt\u001b[0m                         Traceback (most recent call last)",
      "\u001b[0;32m/tmp/ipykernel_127845/1459981837.py\u001b[0m in \u001b[0;36m<module>\u001b[0;34m\u001b[0m\n\u001b[1;32m      1\u001b[0m \u001b[0;32mwhile\u001b[0m \u001b[0;32mTrue\u001b[0m\u001b[0;34m:\u001b[0m\u001b[0;34m\u001b[0m\u001b[0;34m\u001b[0m\u001b[0m\n\u001b[0;32m----> 2\u001b[0;31m     \u001b[0mcurr_input\u001b[0m \u001b[0;34m=\u001b[0m \u001b[0minput\u001b[0m\u001b[0;34m(\u001b[0m\u001b[0;34m)\u001b[0m\u001b[0;34m\u001b[0m\u001b[0;34m\u001b[0m\u001b[0m\n\u001b[0m\u001b[1;32m      3\u001b[0m     \u001b[0;32mif\u001b[0m \u001b[0mcurr_input\u001b[0m \u001b[0;34m==\u001b[0m \u001b[0;34m\"quit\"\u001b[0m\u001b[0;34m:\u001b[0m\u001b[0;34m\u001b[0m\u001b[0;34m\u001b[0m\u001b[0m\n\u001b[1;32m      4\u001b[0m         \u001b[0;32mbreak\u001b[0m\u001b[0;34m\u001b[0m\u001b[0;34m\u001b[0m\u001b[0m\n\u001b[1;32m      5\u001b[0m     \u001b[0mpred\u001b[0m \u001b[0;34m=\u001b[0m \u001b[0mmodel\u001b[0m\u001b[0;34m.\u001b[0m\u001b[0mpredict\u001b[0m\u001b[0;34m(\u001b[0m\u001b[0;34m[\u001b[0m\u001b[0;34m[\u001b[0m\u001b[0mcurr_input\u001b[0m\u001b[0;34m]\u001b[0m\u001b[0;34m]\u001b[0m\u001b[0;34m,\u001b[0m \u001b[0mverbose\u001b[0m\u001b[0;34m=\u001b[0m\u001b[0;32mFalse\u001b[0m\u001b[0;34m)\u001b[0m\u001b[0;34m[\u001b[0m\u001b[0;36m0\u001b[0m\u001b[0;34m]\u001b[0m\u001b[0;34m[\u001b[0m\u001b[0;36m0\u001b[0m\u001b[0;34m]\u001b[0m\u001b[0;34m\u001b[0m\u001b[0;34m\u001b[0m\u001b[0m\n",
      "\u001b[0;32m~/anaconda3/envs/coding_env/lib/python3.7/site-packages/ipykernel/kernelbase.py\u001b[0m in \u001b[0;36mraw_input\u001b[0;34m(self, prompt)\u001b[0m\n\u001b[1;32m   1077\u001b[0m             \u001b[0mself\u001b[0m\u001b[0;34m.\u001b[0m\u001b[0m_parent_ident\u001b[0m\u001b[0;34m[\u001b[0m\u001b[0;34m\"shell\"\u001b[0m\u001b[0;34m]\u001b[0m\u001b[0;34m,\u001b[0m\u001b[0;34m\u001b[0m\u001b[0;34m\u001b[0m\u001b[0m\n\u001b[1;32m   1078\u001b[0m             \u001b[0mself\u001b[0m\u001b[0;34m.\u001b[0m\u001b[0mget_parent\u001b[0m\u001b[0;34m(\u001b[0m\u001b[0;34m\"shell\"\u001b[0m\u001b[0;34m)\u001b[0m\u001b[0;34m,\u001b[0m\u001b[0;34m\u001b[0m\u001b[0;34m\u001b[0m\u001b[0m\n\u001b[0;32m-> 1079\u001b[0;31m             \u001b[0mpassword\u001b[0m\u001b[0;34m=\u001b[0m\u001b[0;32mFalse\u001b[0m\u001b[0;34m,\u001b[0m\u001b[0;34m\u001b[0m\u001b[0;34m\u001b[0m\u001b[0m\n\u001b[0m\u001b[1;32m   1080\u001b[0m         )\n\u001b[1;32m   1081\u001b[0m \u001b[0;34m\u001b[0m\u001b[0m\n",
      "\u001b[0;32m~/anaconda3/envs/coding_env/lib/python3.7/site-packages/ipykernel/kernelbase.py\u001b[0m in \u001b[0;36m_input_request\u001b[0;34m(self, prompt, ident, parent, password)\u001b[0m\n\u001b[1;32m   1118\u001b[0m             \u001b[0;32mexcept\u001b[0m \u001b[0mKeyboardInterrupt\u001b[0m\u001b[0;34m:\u001b[0m\u001b[0;34m\u001b[0m\u001b[0;34m\u001b[0m\u001b[0m\n\u001b[1;32m   1119\u001b[0m                 \u001b[0;31m# re-raise KeyboardInterrupt, to truncate traceback\u001b[0m\u001b[0;34m\u001b[0m\u001b[0;34m\u001b[0m\u001b[0;34m\u001b[0m\u001b[0m\n\u001b[0;32m-> 1120\u001b[0;31m                 \u001b[0;32mraise\u001b[0m \u001b[0mKeyboardInterrupt\u001b[0m\u001b[0;34m(\u001b[0m\u001b[0;34m\"Interrupted by user\"\u001b[0m\u001b[0;34m)\u001b[0m \u001b[0;32mfrom\u001b[0m \u001b[0;32mNone\u001b[0m\u001b[0;34m\u001b[0m\u001b[0;34m\u001b[0m\u001b[0m\n\u001b[0m\u001b[1;32m   1121\u001b[0m             \u001b[0;32mexcept\u001b[0m \u001b[0mException\u001b[0m\u001b[0;34m:\u001b[0m\u001b[0;34m\u001b[0m\u001b[0;34m\u001b[0m\u001b[0m\n\u001b[1;32m   1122\u001b[0m                 \u001b[0mself\u001b[0m\u001b[0;34m.\u001b[0m\u001b[0mlog\u001b[0m\u001b[0;34m.\u001b[0m\u001b[0mwarning\u001b[0m\u001b[0;34m(\u001b[0m\u001b[0;34m\"Invalid Message:\"\u001b[0m\u001b[0;34m,\u001b[0m \u001b[0mexc_info\u001b[0m\u001b[0;34m=\u001b[0m\u001b[0;32mTrue\u001b[0m\u001b[0;34m)\u001b[0m\u001b[0;34m\u001b[0m\u001b[0;34m\u001b[0m\u001b[0m\n",
      "\u001b[0;31mKeyboardInterrupt\u001b[0m: Interrupted by user"
     ]
    }
   ],
   "source": [
    "while True:\n",
    "    curr_input = input()\n",
    "    if curr_input == \"quit\":\n",
    "        break\n",
    "    pred = model.predict([[curr_input]], verbose=False)[0][0]\n",
    "    print(pred)\n",
    "    print()"
   ]
  },
  {
   "cell_type": "code",
   "execution_count": null,
   "metadata": {},
   "outputs": [],
   "source": []
  }
 ],
 "metadata": {
  "kernelspec": {
   "display_name": "Python 3 (ipykernel)",
   "language": "python",
   "name": "python3"
  },
  "language_info": {
   "codemirror_mode": {
    "name": "ipython",
    "version": 3
   },
   "file_extension": ".py",
   "mimetype": "text/x-python",
   "name": "python",
   "nbconvert_exporter": "python",
   "pygments_lexer": "ipython3",
   "version": "3.7.10"
  }
 },
 "nbformat": 4,
 "nbformat_minor": 4
}
